{
 "cells": [
  {
   "cell_type": "code",
   "execution_count": 1,
   "metadata": {},
   "outputs": [
    {
     "name": "stdout",
     "output_type": "stream",
     "text": [
      "Hello with this hell of a trial\n"
     ]
    }
   ],
   "source": [
    "print(\"Hello with this hell of a trial\")"
   ]
  },
  {
   "cell_type": "code",
   "execution_count": 2,
   "metadata": {},
   "outputs": [
    {
     "name": "stdout",
     "output_type": "stream",
     "text": [
      "levy\n",
      "levy\n"
     ]
    }
   ],
   "source": [
    "word = \"mynameislevy\"\n",
    "for char in word:\n",
    "    if char == 'e':\n",
    "        print(\"levy\")"
   ]
  }
 ],
 "metadata": {
  "kernelspec": {
   "display_name": "venv",
   "language": "python",
   "name": "python3"
  },
  "language_info": {
   "codemirror_mode": {
    "name": "ipython",
    "version": 3
   },
   "file_extension": ".py",
   "mimetype": "text/x-python",
   "name": "python",
   "nbconvert_exporter": "python",
   "pygments_lexer": "ipython3",
   "version": "3.10.6"
  },
  "orig_nbformat": 4,
  "vscode": {
   "interpreter": {
    "hash": "a142f2cdff681cd8cde3e3c7c0778c481564cf9020f8784a5af46477cf5166c7"
   }
  }
 },
 "nbformat": 4,
 "nbformat_minor": 2
}
